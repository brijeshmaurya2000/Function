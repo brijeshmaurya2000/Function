{
  "nbformat": 4,
  "nbformat_minor": 0,
  "metadata": {
    "colab": {
      "provenance": []
    },
    "kernelspec": {
      "name": "python3",
      "display_name": "Python 3"
    },
    "language_info": {
      "name": "python"
    }
  },
  "cells": [
    {
      "cell_type": "code",
      "execution_count": null,
      "metadata": {
        "id": "VkjBh7cV2rcY"
      },
      "outputs": [],
      "source": []
    },
    {
      "cell_type": "markdown",
      "source": [
        "1. What is the difference between a function and a method in Python?\n",
        "  \n",
        "   >> function is a blodk of code that perform a specific task, reusable,independent , onely one memory location need.\n",
        "\n",
        "example.\n"
      ],
      "metadata": {
        "id": "nQl7PTkJ2sio"
      }
    },
    {
      "cell_type": "code",
      "source": [
        "def greeting(name):\n",
        "  return(\"welcome to the office\")\n",
        "  print(greeting(\"sanjay\"))"
      ],
      "metadata": {
        "id": "jQmOnM9u404u"
      },
      "execution_count": 2,
      "outputs": []
    },
    {
      "cell_type": "markdown",
      "source": [
        "   >>methoad is a function that is defined inside the class and is called using an object of that class\n",
        "\n",
        "example"
      ],
      "metadata": {
        "id": "E6wjMQX46VbR"
      }
    },
    {
      "cell_type": "code",
      "source": [
        "class rahul:\n",
        "  def say_by(self):\n",
        "    print(\"hello\")"
      ],
      "metadata": {
        "id": "s7eXWPnO6vRT"
      },
      "execution_count": 4,
      "outputs": []
    },
    {
      "cell_type": "markdown",
      "source": [
        "2. Explain the concept of function arguments and parameters in Python.\n",
        "\n",
        "   >>the actual value passed to the function when it is called argument.\n",
        "   the variable inside the parenthesis in a function definition.\n",
        "\n",
        "example"
      ],
      "metadata": {
        "id": "hGkPcsJw7KT8"
      }
    },
    {
      "cell_type": "code",
      "source": [
        "def greeting(name):#name is a parameter\n",
        "  print(\"welcome to the office\")\n",
        "greetig(\"sachin\")#sachin is a argumant"
      ],
      "metadata": {
        "id": "aLtbhMYc8kxW"
      },
      "execution_count": null,
      "outputs": []
    },
    {
      "cell_type": "markdown",
      "source": [
        "3. What are the different ways to define and call a function in Python?\n",
        "\n",
        "   >>a. basic function and definition and cell"
      ],
      "metadata": {
        "id": "fHFIh6C-9pmf"
      }
    },
    {
      "cell_type": "markdown",
      "source": [
        "define"
      ],
      "metadata": {
        "id": "gqZzlD2n_lha"
      }
    },
    {
      "cell_type": "code",
      "source": [
        "def greet():\n",
        "  print(\"rahul\")"
      ],
      "metadata": {
        "id": "Cd3onLV0-dxf"
      },
      "execution_count": 8,
      "outputs": []
    },
    {
      "cell_type": "markdown",
      "source": [
        "call"
      ],
      "metadata": {
        "id": "fKq1QlTE_Ymc"
      }
    },
    {
      "cell_type": "code",
      "source": [
        "greet()"
      ],
      "metadata": {
        "id": "YYyaWKI3_b7X"
      },
      "execution_count": null,
      "outputs": []
    },
    {
      "cell_type": "markdown",
      "source": [
        "b. function with parameters"
      ],
      "metadata": {
        "id": "UY5SRpcP-ugA"
      }
    },
    {
      "cell_type": "markdown",
      "source": [
        "define"
      ],
      "metadata": {
        "id": "VtkeoyoY_raS"
      }
    },
    {
      "cell_type": "code",
      "source": [
        "def greet(name):\n",
        "  print(\"welcome to the company\")"
      ],
      "metadata": {
        "id": "mnVJ6Vkf-_bj"
      },
      "execution_count": null,
      "outputs": []
    },
    {
      "cell_type": "markdown",
      "source": [
        "call"
      ],
      "metadata": {
        "id": "_SiMkAn0_ufG"
      }
    },
    {
      "cell_type": "code",
      "source": [
        "greet(\"raja\")"
      ],
      "metadata": {
        "id": "2jh2bfgh_vhJ"
      },
      "execution_count": null,
      "outputs": []
    },
    {
      "cell_type": "markdown",
      "source": [
        "4. What is the purpose of the `return` statement in a Python function?\n",
        "\n",
        "   >>return statements has multiple value in python like as send a variable,exit the function early,return multiple values etc\n",
        "\n",
        "example\n",
        "      "
      ],
      "metadata": {
        "id": "Hh2W9OkF_Nz1"
      }
    },
    {
      "cell_type": "code",
      "source": [
        "def get_info():\n",
        "  name=\"sanjay\"\n",
        "  age=34\n",
        "  return name,age"
      ],
      "metadata": {
        "id": "iVUA_5gTArKn"
      },
      "execution_count": 9,
      "outputs": []
    },
    {
      "cell_type": "code",
      "source": [
        "n,a=get_info\n",
        "print(n)\n",
        "print(a)"
      ],
      "metadata": {
        "id": "rcdChb8_A50p"
      },
      "execution_count": null,
      "outputs": []
    },
    {
      "cell_type": "markdown",
      "source": [
        "5. What are iterators in Python and how do they differ from iterables?\n",
        "\n",
        "  >>An iterator is an object in python that allows you to loop through a sequence\n",
        "  (like tuple,listetc) one item at a time.\n",
        "  >>an itrables is an object in python that can be looped over (iterated)using an iterator.\n",
        "\n",
        "example\n",
        "       .list:[1,2,3]\n",
        "       .tuple:(1,2,3)\n",
        "       .strings:\"hello world\""
      ],
      "metadata": {
        "id": "7q2qHbfmBWQc"
      }
    },
    {
      "cell_type": "markdown",
      "source": [
        "6. Explain the concept of generators in Python and how they are defined?\n",
        "\n",
        "   >>genrators are iterators, but they are created using functions not classes,\n",
        "   they save memory.\n",
        "\n",
        "   >> how they define a genrator\n",
        "   "
      ],
      "metadata": {
        "id": "2zNfT6ZEFsoa"
      }
    },
    {
      "cell_type": "code",
      "source": [
        "def count_up_to(limit):\n",
        "  num=1\n",
        "  while num <=limit:\n",
        "    yield num\n",
        "    num+=1"
      ],
      "metadata": {
        "id": "VDTXfFeHG0qD"
      },
      "execution_count": 12,
      "outputs": []
    },
    {
      "cell_type": "markdown",
      "source": [
        "7. What are the advantages of using generators over regular functions?\n",
        "\n",
        "   >>1.memory efficiently\n",
        "    2. faster set up time\n",
        "    3. can be used in looped\n",
        "    4. infinite sequences possible"
      ],
      "metadata": {
        "id": "4oilu-dnHXY0"
      }
    },
    {
      "cell_type": "markdown",
      "source": [
        "8. What is a lambda function in Python and when is it typically used?\n",
        "\n",
        "   >>A lamda function in python is a small anonymous unction meaning it doesnt have a name like regular functions .\n",
        "   \n",
        "   >>it's used for quick short tasks, usually where a full function definition would be unnessary."
      ],
      "metadata": {
        "id": "g_nGKIQtN9WE"
      }
    },
    {
      "cell_type": "markdown",
      "source": [
        "9. Explain the purpose and usage of the `map()` function in Python?\n",
        "\n",
        "   >>the map function is used to apply a function to each item in an itrable and return a new iterable with the results.\n",
        "   "
      ],
      "metadata": {
        "id": "hIuTtoppPyzM"
      }
    },
    {
      "cell_type": "markdown",
      "source": [
        "                       PRACTICAL QUESTIONS"
      ],
      "metadata": {
        "id": "NuJGX9-ZQrKE"
      }
    },
    {
      "cell_type": "code",
      "source": [
        "#1. Write a Python function that takes a list of numbers as input and returns the sum of all even numbers in the list\n",
        "def sum_of_even_numbers(numbers):\n",
        "    return sum(num for num in numbers if num % 2 == 0)\n",
        "\n",
        "# Example usage:\n",
        "example_list = [1, 2, 3, 4, 5, 6]\n",
        "result = sum_of_even_numbers(example_list)\n",
        "print(\"Sum of even numbers:\", result)\n"
      ],
      "metadata": {
        "colab": {
          "base_uri": "https://localhost:8080/"
        },
        "id": "zn7CGZdZX_bc",
        "outputId": "7561e6e4-042b-44db-fe64-20632bf028e7"
      },
      "execution_count": 18,
      "outputs": [
        {
          "output_type": "stream",
          "name": "stdout",
          "text": [
            "Sum of even numbers: 12\n"
          ]
        }
      ]
    },
    {
      "cell_type": "code",
      "source": [
        "#2. Create a Python function that accepts a string and returns the reverse of that string.\n",
        "def reverse_string(s):\n",
        "    return s[::-1]\n",
        "\n",
        "# Example usage:\n",
        "input_str = \"hello\"\n",
        "reversed_str = reverse_string(input_str)\n",
        "print(\"Reversed string:\", reversed_str)\n"
      ],
      "metadata": {
        "colab": {
          "base_uri": "https://localhost:8080/"
        },
        "id": "DnqQJNvBd-6x",
        "outputId": "656efe83-0345-43ba-f4bb-e355ea4b316b"
      },
      "execution_count": 19,
      "outputs": [
        {
          "output_type": "stream",
          "name": "stdout",
          "text": [
            "Reversed string: olleh\n"
          ]
        }
      ]
    },
    {
      "cell_type": "code",
      "source": [
        "#3. Implement a Python function that takes a list of integers and returns a new list containing the squares of each number.\n",
        "def square_numbers(numbers):\n",
        "    return [num ** 2 for num in numbers]\n",
        "\n",
        "# Example usage:\n",
        "input_list = [1, 2, 3, 4, 5]\n",
        "squared_list = square_numbers(input_list)\n",
        "print(\"Squared numbers:\", squared_list)\n"
      ],
      "metadata": {
        "colab": {
          "base_uri": "https://localhost:8080/"
        },
        "id": "nDb8Oh_neLe_",
        "outputId": "ac0b4d3a-e50f-4060-fa4f-61556128393c"
      },
      "execution_count": 20,
      "outputs": [
        {
          "output_type": "stream",
          "name": "stdout",
          "text": [
            "Squared numbers: [1, 4, 9, 16, 25]\n"
          ]
        }
      ]
    },
    {
      "cell_type": "code",
      "source": [
        "#4. Write a Python function that checks if a given number is prime or not from 1 to 200.\n",
        "def is_prime(n):\n",
        "    if n < 2 or n > 200:\n",
        "        return False  # Primes start from 2 and we limit to 200\n",
        "    for i in range(2, int(n ** 0.5) + 1):\n",
        "        if n % i == 0:\n",
        "            return False\n",
        "    return True\n",
        "\n",
        "# Example usage:\n",
        "for num in range(1, 21):\n",
        "    print(f\"{num} is prime: {is_prime(num)}\")\n"
      ],
      "metadata": {
        "colab": {
          "base_uri": "https://localhost:8080/"
        },
        "id": "PBpeUtvaeqF_",
        "outputId": "34d45639-9356-434e-8dcd-9eab15087ec4"
      },
      "execution_count": 21,
      "outputs": [
        {
          "output_type": "stream",
          "name": "stdout",
          "text": [
            "1 is prime: False\n",
            "2 is prime: True\n",
            "3 is prime: True\n",
            "4 is prime: False\n",
            "5 is prime: True\n",
            "6 is prime: False\n",
            "7 is prime: True\n",
            "8 is prime: False\n",
            "9 is prime: False\n",
            "10 is prime: False\n",
            "11 is prime: True\n",
            "12 is prime: False\n",
            "13 is prime: True\n",
            "14 is prime: False\n",
            "15 is prime: False\n",
            "16 is prime: False\n",
            "17 is prime: True\n",
            "18 is prime: False\n",
            "19 is prime: True\n",
            "20 is prime: False\n"
          ]
        }
      ]
    },
    {
      "cell_type": "code",
      "source": [
        "#6. Write a generator function in Python that yields the powers of 2 up to a given exponent.\n",
        "def powers_of_two(max_exponent):\n",
        "    for exp in range(max_exponent + 1):\n",
        "        yield 2 ** exp\n",
        "\n",
        "for power in powers_of_two(5):\n",
        "    print(power)\n"
      ],
      "metadata": {
        "colab": {
          "base_uri": "https://localhost:8080/"
        },
        "id": "NwzfkfKzfDew",
        "outputId": "b58106e8-e6f6-469d-f4dd-28905f65b721"
      },
      "execution_count": 23,
      "outputs": [
        {
          "output_type": "stream",
          "name": "stdout",
          "text": [
            "1\n",
            "2\n",
            "4\n",
            "8\n",
            "16\n",
            "32\n"
          ]
        }
      ]
    },
    {
      "cell_type": "code",
      "source": [
        "#7. Implement a generator function that reads a file line by line and yields each line as a string.\n",
        "def read_file_lines(filename):\n",
        "    with open(filename, 'r') as file:\n",
        "        for line in file:\n",
        "            yield line.rstrip('\\n')\n",
        "for line in read_file_lines('example.txt'):\n",
        "    print(line)\n"
      ],
      "metadata": {
        "id": "w6lP8prJf3Fa"
      },
      "execution_count": null,
      "outputs": []
    },
    {
      "cell_type": "code",
      "source": [
        "#8. Use a lambda function in Python to sort a list of tuples based on the second element of each tuple.\n",
        "# Sample list of tuples\n",
        "tuples_list = [(1, 3), (4, 1), (2, 2), (5, 0)]\n",
        "\n",
        "# Sort based on the second element\n",
        "sorted_list = sorted(tuples_list, key=lambda x: x[1])\n",
        "\n",
        "print(sorted_list)\n"
      ],
      "metadata": {
        "colab": {
          "base_uri": "https://localhost:8080/"
        },
        "id": "rnGGr5rrgNMJ",
        "outputId": "476b102a-b75e-4248-e819-7da621bc8dba"
      },
      "execution_count": 25,
      "outputs": [
        {
          "output_type": "stream",
          "name": "stdout",
          "text": [
            "[(5, 0), (4, 1), (2, 2), (1, 3)]\n"
          ]
        }
      ]
    },
    {
      "cell_type": "code",
      "source": [
        "#9. Write a Python program that uses `map()` to convert a list of temperatures from Celsius to Fahrenheit.\n",
        "# Celsius to Fahrenheit conversion function\n",
        "def c_to_f(celsius):\n",
        "    return (celsius * 9/5) + 32\n",
        "\n",
        "# List of temperatures in Celsius\n",
        "celsius_temps = [0, 20, 37, 100]\n",
        "\n",
        "# Use map to convert each temperature to Fahrenheit\n",
        "fahrenheit_temps = list(map(c_to_f, celsius_temps))\n",
        "\n",
        "# Print the result\n",
        "print(f\"Fahrenheit temperatures: {fahrenheit_temps}\")\n"
      ],
      "metadata": {
        "colab": {
          "base_uri": "https://localhost:8080/"
        },
        "id": "uxQ41zpAginE",
        "outputId": "147a36f7-daca-4e5d-b822-d25b89ceaef9"
      },
      "execution_count": 26,
      "outputs": [
        {
          "output_type": "stream",
          "name": "stdout",
          "text": [
            "Fahrenheit temperatures: [32.0, 68.0, 98.6, 212.0]\n"
          ]
        }
      ]
    },
    {
      "cell_type": "code",
      "source": [],
      "metadata": {
        "id": "QoDxIVcrg3eC"
      },
      "execution_count": null,
      "outputs": []
    }
  ]
}